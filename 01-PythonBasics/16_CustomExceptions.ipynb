{
 "cells": [
  {
   "cell_type": "markdown",
   "id": "033cc1fa",
   "metadata": {},
   "source": [
    "## Custom Exception (Raise and Throw Exception)"
   ]
  },
  {
   "cell_type": "code",
   "execution_count": 1,
   "id": "681acab1",
   "metadata": {},
   "outputs": [],
   "source": [
    "class Error(Exception):\n",
    "    pass\n",
    "\n",
    "class dobException(Error):\n",
    "    pass"
   ]
  },
  {
   "cell_type": "code",
   "execution_count": null,
   "id": "3307fa7b",
   "metadata": {},
   "outputs": [
    {
     "name": "stdout",
     "output_type": "stream",
     "text": [
      "Sorry your age should be greater than 20 or less than 30\n"
     ]
    },
    {
     "ename": "",
     "evalue": "",
     "output_type": "error",
     "traceback": [
      "\u001b[1;31mThe Kernel crashed while executing code in the current cell or a previous cell. \n",
      "\u001b[1;31mPlease review the code in the cell(s) to identify a possible cause of the failure. \n",
      "\u001b[1;31mClick <a href='https://aka.ms/vscodeJupyterKernelCrash'>here</a> for more info. \n",
      "\u001b[1;31mView Jupyter <a href='command:jupyter.viewOutput'>log</a> for further details."
     ]
    }
   ],
   "source": [
    "year=int(input(\"Enter the dob\"))\n",
    "age=2025-year\n",
    "\n",
    "try:\n",
    "    if age<=30 and age>=20:\n",
    "        print(\"The age is valid so can apply for the exam\")\n",
    "    else:\n",
    "        raise dobException\n",
    "except dobException:\n",
    "    print(\"Sorry your age should be greater than 20 or less than 30\")"
   ]
  }
 ],
 "metadata": {
  "kernelspec": {
   "display_name": "Python 3",
   "language": "python",
   "name": "python3"
  },
  "language_info": {
   "codemirror_mode": {
    "name": "ipython",
    "version": 3
   },
   "file_extension": ".py",
   "mimetype": "text/x-python",
   "name": "python",
   "nbconvert_exporter": "python",
   "pygments_lexer": "ipython3",
   "version": "3.12.0"
  }
 },
 "nbformat": 4,
 "nbformat_minor": 5
}
