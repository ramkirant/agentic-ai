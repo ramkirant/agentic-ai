{
 "cells": [
  {
   "cell_type": "markdown",
   "id": "82509358",
   "metadata": {},
   "source": [
    "# Sets\n",
    "\n",
    "Sets are built-in datatypes in Python used to store collections of unique items. They are unordered, meaning the elements do not follow a specific order and they do not allow duplicate elements. Sets are useful for membership tests, eliminating duplicate entries, and performing mathematical set operations like union, intersection, difference and symmetic difference. "
   ]
  },
  {
   "cell_type": "code",
   "execution_count": 50,
   "id": "d8e06f87",
   "metadata": {},
   "outputs": [
    {
     "name": "stdout",
     "output_type": "stream",
     "text": [
      "{1, 2, 3, 4, 5}\n",
      "<class 'set'>\n"
     ]
    }
   ],
   "source": [
    "my_set={1,2,3,4,5}\n",
    "print(my_set)\n",
    "print(type(my_set))"
   ]
  },
  {
   "cell_type": "code",
   "execution_count": 2,
   "id": "1d45ddfe",
   "metadata": {},
   "outputs": [
    {
     "name": "stdout",
     "output_type": "stream",
     "text": [
      "<class 'set'>\n"
     ]
    }
   ],
   "source": [
    "my_empty_set=set()\n",
    "print(type(my_empty_set))"
   ]
  },
  {
   "cell_type": "code",
   "execution_count": null,
   "id": "19e9880d",
   "metadata": {},
   "outputs": [
    {
     "name": "stdout",
     "output_type": "stream",
     "text": [
      "{1, 2, 3, 4, 5}\n",
      "<class 'set'>\n"
     ]
    },
    {
     "ename": "",
     "evalue": "",
     "output_type": "error",
     "traceback": [
      "\u001b[1;31mThe Kernel crashed while executing code in the current cell or a previous cell. \n",
      "\u001b[1;31mPlease review the code in the cell(s) to identify a possible cause of the failure. \n",
      "\u001b[1;31mClick <a href='https://aka.ms/vscodeJupyterKernelCrash'>here</a> for more info. \n",
      "\u001b[1;31mView Jupyter <a href='command:jupyter.viewOutput'>log</a> for further details."
     ]
    }
   ],
   "source": [
    "#Type cast a tuple to a set\n",
    "set_from_tupe=set([1,2,3,4,5])\n",
    "print(set_from_tupe)\n",
    "print(type(set_from_tupe))"
   ]
  },
  {
   "cell_type": "code",
   "execution_count": 52,
   "id": "272e4728",
   "metadata": {},
   "outputs": [
    {
     "name": "stdout",
     "output_type": "stream",
     "text": [
      "{1, 2, 3, 4, 5}\n"
     ]
    }
   ],
   "source": [
    "#Duplicate Set Test. If there are duplicates in the set, it will just ignore the duplicates and consider only the unique ones\n",
    "setz={1,2,2,3,4,5}\n",
    "print(setz)"
   ]
  },
  {
   "cell_type": "code",
   "execution_count": 53,
   "id": "bde84550",
   "metadata": {},
   "outputs": [
    {
     "name": "stdout",
     "output_type": "stream",
     "text": [
      "{1, 2, 3, 4, 5, 6}\n",
      "{1, 2, 3, 4, 6}\n"
     ]
    }
   ],
   "source": [
    "## Basic Set operations\n",
    "\n",
    "## Adding and removing elements\n",
    "setz={1,2,3,4,5}\n",
    "setz.add(6)\n",
    "print(setz)\n",
    "\n",
    "## Removing the elements\n",
    "setz.remove(5)\n",
    "print(setz)\n",
    "\n",
    "## Remove an element that dont exist. It will throw KeyError\n",
    "##set.remove(10)\n",
    "\n",
    "## If we dont want an error to popup if the element dont exist, use discard()\n",
    "setz.discard(11)"
   ]
  },
  {
   "cell_type": "code",
   "execution_count": 55,
   "id": "2bf63cd0",
   "metadata": {},
   "outputs": [
    {
     "name": "stdout",
     "output_type": "stream",
     "text": [
      "1\n",
      "{2, 3, 4, 5}\n"
     ]
    }
   ],
   "source": [
    "## set.pop() method. It removes the first element of the set. It follows FIRST IN, FIRST OUT\n",
    "\n",
    "setz={1,2,3,4,5}\n",
    "removed_element=setz.pop()\n",
    "print(removed_element)\n",
    "print(setz)"
   ]
  },
  {
   "cell_type": "code",
   "execution_count": 56,
   "id": "65d5e043",
   "metadata": {},
   "outputs": [
    {
     "name": "stdout",
     "output_type": "stream",
     "text": [
      "{1, 2, 3, 4, 5}\n"
     ]
    }
   ],
   "source": [
    "## Clear all the elements of the set\n",
    "setz={1,2,3,4,5}\n",
    "setz.clear()\n",
    "print(set)"
   ]
  },
  {
   "cell_type": "code",
   "execution_count": 57,
   "id": "78361b3b",
   "metadata": {},
   "outputs": [
    {
     "name": "stdout",
     "output_type": "stream",
     "text": [
      "True\n",
      "False\n"
     ]
    }
   ],
   "source": [
    "## Set membership test. Check whether an element is present in the set or not\n",
    "setz={1,2,3,4,5}\n",
    "print(3 in setz)\n",
    "print(10 in setz)"
   ]
  },
  {
   "cell_type": "code",
   "execution_count": 58,
   "id": "521ab1c5",
   "metadata": {},
   "outputs": [
    {
     "name": "stdout",
     "output_type": "stream",
     "text": [
      "{1, 2, 3, 4, 5, 6, 7, 8, 9}\n",
      "{4, 5, 6}\n",
      "{4, 5, 6}\n"
     ]
    }
   ],
   "source": [
    "## Mathematical operations\n",
    "set1={1,2,3,4,5,6,}\n",
    "set2={4,5,6,7,8,9}\n",
    "\n",
    "## Union\n",
    "union_set=set1.union(set2)\n",
    "print(union_set)\n",
    "\n",
    "## Intersection\n",
    "intersect_set=set1.intersection(set2)\n",
    "print(intersect_set)\n",
    "\n",
    "## This method finds out the common elements and updates the result to set1\n",
    "set1.intersection_update(set2)\n",
    "print(set1)"
   ]
  },
  {
   "cell_type": "code",
   "execution_count": 59,
   "id": "8b3b484f",
   "metadata": {},
   "outputs": [
    {
     "name": "stdout",
     "output_type": "stream",
     "text": [
      "{1, 2, 3}\n"
     ]
    }
   ],
   "source": [
    "set1={1,2,3,4,5,6}\n",
    "set2={4,5,6,7,8,9}\n",
    "\n",
    "## Difference. Removes the common elements from set1\n",
    "print(set1.difference(set2))"
   ]
  },
  {
   "cell_type": "code",
   "execution_count": 60,
   "id": "8e5148f5",
   "metadata": {},
   "outputs": [
    {
     "name": "stdout",
     "output_type": "stream",
     "text": [
      "{1, 2, 3, 7, 8, 9}\n"
     ]
    }
   ],
   "source": [
    "## Symmetric Difference. Unique elements from both the sets are combined. Common elements are removed. \n",
    "print(set1.symmetric_difference(set2))"
   ]
  },
  {
   "cell_type": "code",
   "execution_count": 61,
   "id": "89384fe4",
   "metadata": {},
   "outputs": [
    {
     "name": "stdout",
     "output_type": "stream",
     "text": [
      "False\n",
      "False\n"
     ]
    }
   ],
   "source": [
    "## Sets Methods\n",
    "set1={1,2,3}\n",
    "set2={3,4,5}\n",
    "\n",
    "\n",
    "## is subset\n",
    "print(set1.issubset(set2))\n",
    "\n",
    "## is superset\n",
    "print(set1.issuperset(set2))\n",
    "\n"
   ]
  },
  {
   "cell_type": "code",
   "execution_count": 1,
   "id": "32987949",
   "metadata": {},
   "outputs": [
    {
     "name": "stdout",
     "output_type": "stream",
     "text": [
      "8\n"
     ]
    }
   ],
   "source": [
    "### Counting Unique words in text\n",
    "text=\"In this tutorial we are discussing about sets\"\n",
    "words=text.split()\n",
    "\n",
    "## Convert list of words to set to get unique words\n",
    "unique_words=set(words)\n",
    "print(len(unique_words))"
   ]
  }
 ],
 "metadata": {
  "kernelspec": {
   "display_name": "Python 3",
   "language": "python",
   "name": "python3"
  },
  "language_info": {
   "codemirror_mode": {
    "name": "ipython",
    "version": 3
   },
   "file_extension": ".py",
   "mimetype": "text/x-python",
   "name": "python",
   "nbconvert_exporter": "python",
   "pygments_lexer": "ipython3",
   "version": "3.12.0"
  }
 },
 "nbformat": 4,
 "nbformat_minor": 5
}
