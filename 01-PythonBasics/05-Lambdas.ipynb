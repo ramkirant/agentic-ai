{
 "cells": [
  {
   "cell_type": "markdown",
   "id": "0f55fbfd",
   "metadata": {},
   "source": [
    "## Lambda Functions\n",
    "Lambda Functions are small anonymous functions defined using the lambda keyword. They can have any number of arguments but only one expression. They are commonly used for short operations or as arguments to higher order functions"
   ]
  },
  {
   "cell_type": "code",
   "execution_count": 2,
   "id": "7f5273e1",
   "metadata": {},
   "outputs": [
    {
     "name": "stdout",
     "output_type": "stream",
     "text": [
      "7\n"
     ]
    }
   ],
   "source": [
    "## Lambda Function to add two variables\n",
    "addition = lambda a,b:a+b\n",
    "print(addition(3,4))"
   ]
  },
  {
   "cell_type": "code",
   "execution_count": 4,
   "id": "91780689",
   "metadata": {},
   "outputs": [
    {
     "name": "stdout",
     "output_type": "stream",
     "text": [
      "True\n"
     ]
    }
   ],
   "source": [
    "## Lambda Function to find out if a number is even\n",
    "even = lambda a:a%2==0\n",
    "print(even(12))"
   ]
  },
  {
   "cell_type": "code",
   "execution_count": 3,
   "id": "f618f80d",
   "metadata": {},
   "outputs": [
    {
     "data": {
      "text/plain": [
       "[1, 4, 9, 16, 25]"
      ]
     },
     "execution_count": 3,
     "metadata": {},
     "output_type": "execute_result"
    }
   ],
   "source": [
    "## Map Function\n",
    "## Map Function applies a function to all the items in a list\n",
    "numbers=[1,2,3,4,5]\n",
    "list(map(lambda x:x*x, numbers))\n"
   ]
  },
  {
   "cell_type": "code",
   "execution_count": 5,
   "id": "1bf296f9",
   "metadata": {},
   "outputs": [
    {
     "data": {
      "text/plain": [
       "[5, 7, 9]"
      ]
     },
     "execution_count": 5,
     "metadata": {},
     "output_type": "execute_result"
    }
   ],
   "source": [
    "## Map multiple iterables\n",
    "numbers1=[1,2,3]\n",
    "numbers2=[4,5,6]\n",
    "\n",
    "list(map(lambda x,y:x+y, numbers1,numbers2))"
   ]
  },
  {
   "cell_type": "code",
   "execution_count": 7,
   "id": "ce2f9f5c",
   "metadata": {},
   "outputs": [
    {
     "name": "stdout",
     "output_type": "stream",
     "text": [
      "[1, 2, 3, 4, 5]\n"
     ]
    }
   ],
   "source": [
    "## map() to convert a list of strings to integers\n",
    "str_numbers = ['1','2','3','4','5']\n",
    "int_numbers=list(map(int, str_numbers))\n",
    "print(int_numbers)"
   ]
  },
  {
   "cell_type": "code",
   "execution_count": 10,
   "id": "b7f625cf",
   "metadata": {},
   "outputs": [
    {
     "name": "stdout",
     "output_type": "stream",
     "text": [
      "['APPLE', 'BANANA', 'CHERRY']\n"
     ]
    }
   ],
   "source": [
    "words=['apple','banana','cherry']\n",
    "upper_words=list(map(lambda str:str.upper(), words))\n",
    "print(upper_words)"
   ]
  },
  {
   "cell_type": "code",
   "execution_count": 12,
   "id": "11cafcf7",
   "metadata": {},
   "outputs": [
    {
     "data": {
      "text/plain": [
       "[2, 4, 6, 8, 10]"
      ]
     },
     "execution_count": 12,
     "metadata": {},
     "output_type": "execute_result"
    }
   ],
   "source": [
    "## The filter() function\n",
    "## We can use filter() function to filter out items from a list (or any other iterable) based on a condition\n",
    "\n",
    "lst=[1,2,3,4,5,6,7,8,9,10]\n",
    "\n",
    "list(filter(lambda x:x%2==0, lst))"
   ]
  },
  {
   "cell_type": "code",
   "execution_count": 15,
   "id": "6833024d",
   "metadata": {},
   "outputs": [
    {
     "data": {
      "text/plain": [
       "[6, 8, 10]"
      ]
     },
     "execution_count": 15,
     "metadata": {},
     "output_type": "execute_result"
    }
   ],
   "source": [
    "## filter() with lambda function and multiple conditions\n",
    "\n",
    "lst=[1,2,3,4,5,6,7,8,9,10]\n",
    "\n",
    "## Filter out even and greater than five\n",
    "\n",
    "list(filter(lambda x:x%2==0 and x>5, lst))"
   ]
  },
  {
   "cell_type": "code",
   "execution_count": 3,
   "id": "a26ce856",
   "metadata": {},
   "outputs": [
    {
     "data": {
      "text/plain": [
       "[{'name': 'Krish2', 'age': 32}, {'name': 'Krish3', 'age': 35}]"
      ]
     },
     "execution_count": 3,
     "metadata": {},
     "output_type": "execute_result"
    }
   ],
   "source": [
    "## filter() th check if the age is greater than 25 in dictionary\n",
    "\n",
    "students=[\n",
    "    {\"name\":\"Krish1\",\"age\":18},\n",
    "    {\"name\":\"Krish2\",\"age\":32},\n",
    "    {\"name\":\"Krish3\",\"age\":35}\n",
    "]\n",
    "\n",
    "def age_greater_than_25(student):\n",
    "    return student[\"age\"]>25\n",
    "\n",
    "list(filter(age_greater_than_25, students))"
   ]
  }
 ],
 "metadata": {
  "kernelspec": {
   "display_name": "Python 3",
   "language": "python",
   "name": "python3"
  },
  "language_info": {
   "codemirror_mode": {
    "name": "ipython",
    "version": 3
   },
   "file_extension": ".py",
   "mimetype": "text/x-python",
   "name": "python",
   "nbconvert_exporter": "python",
   "pygments_lexer": "ipython3",
   "version": "3.12.0"
  }
 },
 "nbformat": 4,
 "nbformat_minor": 5
}
