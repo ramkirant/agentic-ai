{
 "cells": [
  {
   "cell_type": "markdown",
   "id": "ea59d880",
   "metadata": {},
   "source": [
    "## Operator Overloading\n",
    "Operator overloading allows you to define the behavior of operators (+, -, * etc) for custom objects. We can achieve this by overriding specific magic methods in our class"
   ]
  },
  {
   "cell_type": "code",
   "execution_count": null,
   "id": "f11f05e2",
   "metadata": {},
   "outputs": [],
   "source": [
    "## Common Operator Overloading Magic Methods\n",
    "\n",
    "'''\n",
    "__eq__(self, other) : Checks if two objects are equal using the == operator\n",
    "__lt__(self, other) : Checks if one object is less than the another using the < operator\n",
    "__add__(self, other): Adds two objects using the + operator\n",
    "__sub__(self, other): Subtracts two objects using the - operator\n",
    "__mul__(self, other): Multiplies two objects using the * operator\n",
    "__truediv__(self, other): Divides two objects using the / operator\n",
    "'''"
   ]
  },
  {
   "cell_type": "code",
   "execution_count": null,
   "id": "41a4ae96",
   "metadata": {},
   "outputs": [
    {
     "name": "stdout",
     "output_type": "stream",
     "text": [
      "(6,8)\n"
     ]
    },
    {
     "ename": "",
     "evalue": "",
     "output_type": "error",
     "traceback": [
      "\u001b[1;31mThe Kernel crashed while executing code in the current cell or a previous cell. \n",
      "\u001b[1;31mPlease review the code in the cell(s) to identify a possible cause of the failure. \n",
      "\u001b[1;31mClick <a href='https://aka.ms/vscodeJupyterKernelCrash'>here</a> for more info. \n",
      "\u001b[1;31mView Jupyter <a href='command:jupyter.viewOutput'>log</a> for further details."
     ]
    }
   ],
   "source": [
    "class Vector:\n",
    "    def __init__(self, x, y):\n",
    "        self.x=x\n",
    "        self.y=y\n",
    "\n",
    "    def __add__(self, other):\n",
    "        return Vector(self.x+other.x, self.y+other.y)\n",
    "\n",
    "    def __str__(self):\n",
    "        return f\"({self.x},{self.y})\"\n",
    "\n",
    "v1=Vector(2,3)\n",
    "v2=Vector(4,5)\n",
    "\n",
    "print(v1+v2)"
   ]
  }
 ],
 "metadata": {
  "kernelspec": {
   "display_name": "Python 3",
   "language": "python",
   "name": "python3"
  },
  "language_info": {
   "codemirror_mode": {
    "name": "ipython",
    "version": 3
   },
   "file_extension": ".py",
   "mimetype": "text/x-python",
   "name": "python",
   "nbconvert_exporter": "python",
   "pygments_lexer": "ipython3",
   "version": "3.12.0"
  }
 },
 "nbformat": 4,
 "nbformat_minor": 5
}
