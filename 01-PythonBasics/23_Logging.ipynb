{
 "cells": [
  {
   "cell_type": "markdown",
   "id": "dce2a6d8",
   "metadata": {},
   "source": [
    "## Python Logging"
   ]
  },
  {
   "cell_type": "code",
   "execution_count": null,
   "id": "a3a499b4",
   "metadata": {},
   "outputs": [],
   "source": [
    "import logging\n",
    "\n",
    "## Remove all handlers associated with the root logger. \n",
    "## If we dont specify any handlers, jupyter will add its own handler which will mess up the logging output. So we remove all the handlers first.\n",
    "\n",
    "for handler in logging.root.handlers[:]:\n",
    "    logging.root.removeHandler(handler)\n",
    "\n",
    "## Configure the basic logging settings\n",
    "## filemode w is write mode. It will overwrite the log file each time the program is run.\n",
    "## filemode a is append mode. It will append the log messages to the log file each time the program is run.\n",
    "\n",
    "logging.basicConfig(\n",
    "    filename='app.log',  # Log messages will be written to app.log file\n",
    "    filemode='w',    # Append mode, use 'w' for overwrite\n",
    "    level=logging.DEBUG,\n",
    "    format='%(asctime)s - %(name)s - %(levelname)s - %(message)s',\n",
    "    datefmt='%Y-%m-%d %H:%M:%S'\n",
    ")\n",
    "\n",
    "## log messages\n",
    "logging.debug(\"This is a debug message\")\n",
    "logging.info(\"This is an info message\")\n",
    "logging.warning(\"This is a warning message\")\n",
    "logging.error(\"This is an error message\")\n",
    "logging.critical(\"This is a critical message\")"
   ]
  },
  {
   "cell_type": "code",
   "execution_count": null,
   "id": "cf3f060a",
   "metadata": {},
   "outputs": [],
   "source": []
  }
 ],
 "metadata": {
  "kernelspec": {
   "display_name": "Python 3",
   "language": "python",
   "name": "python3"
  },
  "language_info": {
   "codemirror_mode": {
    "name": "ipython",
    "version": 3
   },
   "file_extension": ".py",
   "mimetype": "text/x-python",
   "name": "python",
   "nbconvert_exporter": "python",
   "pygments_lexer": "ipython3",
   "version": "3.12.0"
  }
 },
 "nbformat": 4,
 "nbformat_minor": 5
}
