{
 "cells": [
  {
   "cell_type": "markdown",
   "id": "7722a786",
   "metadata": {},
   "source": [
    "## Decorators\n",
    "\n",
    "Decorators are a powerful and flexible feature in Python that allows you to modify the behavior of a function or a classs method. They are commonly used to add functionality to functions or methods without modifying their actual code. \n",
    "\n",
    "We can understand the concept of Decorators well by understanding the below concepts\n",
    "\n",
    "- Function Copy\n",
    "- Closures\n",
    "- Decorators"
   ]
  },
  {
   "cell_type": "code",
   "execution_count": 1,
   "id": "5e0eb870",
   "metadata": {},
   "outputs": [],
   "source": [
    "## function copy\n",
    "def welcome():\n",
    "    return \"Welcome to the advanced python course\""
   ]
  },
  {
   "cell_type": "code",
   "execution_count": null,
   "id": "3e1604de",
   "metadata": {},
   "outputs": [
    {
     "name": "stdout",
     "output_type": "stream",
     "text": [
      "Welcome to the advanced python course\n",
      "Welcome to the advanced python course\n"
     ]
    }
   ],
   "source": [
    "## In Function Copy, we can copy the function to a variable. \n",
    "wel = welcome\n",
    "print(wel())\n",
    "\n",
    "## Even if we delete the initial function, the copied method will still exist\n",
    "del welcome\n",
    "print(wel())"
   ]
  },
  {
   "cell_type": "code",
   "execution_count": null,
   "id": "dd8120de",
   "metadata": {},
   "outputs": [],
   "source": [
    "## Closures\n",
    "## Closures are method within a method\n",
    "\n",
    "def main_welcome():\n",
    "    msg=\"Welcome\"\n",
    "    def sub_welcome_method():\n",
    "        print(\"Welcome to the advanced python course\")\n",
    "        ## We can use the variables defined in the main method in the sub method\n",
    "        print(msg)\n",
    "        print(\"Please learn these concepts properly\")\n",
    "\n",
    "    return sub_welcome_method()"
   ]
  },
  {
   "cell_type": "code",
   "execution_count": 6,
   "id": "b8782f81",
   "metadata": {},
   "outputs": [
    {
     "name": "stdout",
     "output_type": "stream",
     "text": [
      "Welcome to the advanced python course\n",
      "Welcome\n",
      "Please learn these concepts properly\n"
     ]
    }
   ],
   "source": [
    "main_welcome()"
   ]
  },
  {
   "cell_type": "code",
   "execution_count": 7,
   "id": "6ce9fd39",
   "metadata": {},
   "outputs": [],
   "source": [
    "def main_welcome(func):\n",
    "    msg=\"Welcome\"\n",
    "    def sub_welcome_method():\n",
    "        print(\"Welcome to the advanced python course\")\n",
    "        ## We can use the variables defined in the main method in the sub method\n",
    "        func(msg)\n",
    "        print(\"Please learn these concepts properly\")\n",
    "\n",
    "    return sub_welcome_method()"
   ]
  },
  {
   "cell_type": "code",
   "execution_count": 8,
   "id": "e948b657",
   "metadata": {},
   "outputs": [
    {
     "name": "stdout",
     "output_type": "stream",
     "text": [
      "Welcome to the advanced python course\n",
      "Welcome\n",
      "Please learn these concepts properly\n"
     ]
    }
   ],
   "source": [
    "main_welcome(print)"
   ]
  },
  {
   "cell_type": "code",
   "execution_count": 9,
   "id": "9402c55f",
   "metadata": {},
   "outputs": [],
   "source": [
    "## Decorator\n",
    "def main_welcome(func):\n",
    "    msg=\"Welcome\"\n",
    "    def sub_welcome_method():\n",
    "        print(\"Welcome to the advanced python course\")\n",
    "        ## We can use the variables defined in the main method in the sub method\n",
    "        func()\n",
    "        print(\"Please learn these concepts properly\")\n",
    "\n",
    "    return sub_welcome_method()"
   ]
  },
  {
   "cell_type": "code",
   "execution_count": 10,
   "id": "06b96c4f",
   "metadata": {},
   "outputs": [],
   "source": [
    "def course_introduction():\n",
    "    print(\"This is an advanced python course\")"
   ]
  },
  {
   "cell_type": "code",
   "execution_count": 11,
   "id": "08dad2e0",
   "metadata": {},
   "outputs": [
    {
     "name": "stdout",
     "output_type": "stream",
     "text": [
      "Welcome to the advanced python course\n",
      "This is an advanced python course\n",
      "Please learn these concepts properly\n"
     ]
    }
   ],
   "source": [
    "main_welcome(course_introduction)"
   ]
  },
  {
   "cell_type": "code",
   "execution_count": null,
   "id": "d889eeec",
   "metadata": {},
   "outputs": [
    {
     "name": "stdout",
     "output_type": "stream",
     "text": [
      "Welcome to the advanced python course\n",
      "This is an advanced python course\n",
      "Please learn these concepts properly\n"
     ]
    }
   ],
   "source": [
    "## @main_welcome is a decorator. Whenever we pass this decorator to course_introduction, it will call the function main_welcome by passing course_introduction as an input parameter. \n",
    "\n",
    "## Something like this main_welcome(course_introduction)\n",
    "\n",
    "@main_welcome\n",
    "def course_introduction():\n",
    "    print(\"This is an advanced python course\")"
   ]
  },
  {
   "cell_type": "code",
   "execution_count": 13,
   "id": "e0c36c86",
   "metadata": {},
   "outputs": [],
   "source": [
    "## Decorator example\n",
    "\n",
    "def my_decorator(func):\n",
    "    def wrapper():\n",
    "        print(\"Something is happening before the function is called.\")\n",
    "        func()\n",
    "        print(\"Something is happening after the function is called\")\n",
    "    return wrapper"
   ]
  },
  {
   "cell_type": "code",
   "execution_count": 14,
   "id": "7a777de0",
   "metadata": {},
   "outputs": [],
   "source": [
    "@my_decorator\n",
    "def say_hello():\n",
    "    print(\"Hello\")"
   ]
  },
  {
   "cell_type": "code",
   "execution_count": 15,
   "id": "bb2f9eef",
   "metadata": {},
   "outputs": [
    {
     "name": "stdout",
     "output_type": "stream",
     "text": [
      "Something is happening before the function is called.\n",
      "Hello\n",
      "Something is happening after the function is called\n"
     ]
    }
   ],
   "source": [
    "say_hello()"
   ]
  },
  {
   "cell_type": "code",
   "execution_count": 16,
   "id": "de99a946",
   "metadata": {},
   "outputs": [],
   "source": [
    "## Decorators with arguments\n",
    "def repeat(n):\n",
    "    def decorator(func):\n",
    "        def wrapper(*args, **kwargs):\n",
    "            for _ in range(n):\n",
    "                func(*args, **kwargs)\n",
    "        return wrapper\n",
    "    return decorator"
   ]
  },
  {
   "cell_type": "code",
   "execution_count": 17,
   "id": "dea71e68",
   "metadata": {},
   "outputs": [],
   "source": [
    "@repeat(3)\n",
    "def say_hello():\n",
    "    print(\"Hello\")"
   ]
  },
  {
   "cell_type": "code",
   "execution_count": 18,
   "id": "c68ff7bb",
   "metadata": {},
   "outputs": [
    {
     "name": "stdout",
     "output_type": "stream",
     "text": [
      "Hello\n",
      "Hello\n",
      "Hello\n"
     ]
    }
   ],
   "source": [
    "say_hello()"
   ]
  }
 ],
 "metadata": {
  "kernelspec": {
   "display_name": "Python 3",
   "language": "python",
   "name": "python3"
  },
  "language_info": {
   "codemirror_mode": {
    "name": "ipython",
    "version": 3
   },
   "file_extension": ".py",
   "mimetype": "text/x-python",
   "name": "python",
   "nbconvert_exporter": "python",
   "pygments_lexer": "ipython3",
   "version": "3.12.0"
  }
 },
 "nbformat": 4,
 "nbformat_minor": 5
}
