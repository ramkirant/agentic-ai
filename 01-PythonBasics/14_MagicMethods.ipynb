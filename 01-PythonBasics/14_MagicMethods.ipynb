{
 "cells": [
  {
   "cell_type": "markdown",
   "id": "8cf14031",
   "metadata": {},
   "source": [
    "## Magic Methods\n",
    "Magic Methods in python are also known as dunder methods (double underscore methods). These are special methods that start and end with double underscores. These methods enable us to define the behavior of objects for built-in operations such as arithmetic operations, comparisons and more. Magic methods are predefined methods in Python that we can override to change the behavior of our objects. \n",
    "\n",
    "Some common Magic Methods include:\n",
    "\n",
    "- init: Initalizes a new instance of a class\n",
    "- str: Returns a string representation of an object. This is similar to toString method in Java\n",
    "- repr: Returns an official string representation of an object\n",
    "- len: Returns the length of an object\n",
    "- getitem: Gets an item from a container\n",
    "- setitem: Set an item in a container\n",
    "\n",
    "### Difference between str and repr\n",
    "While we can use both str and repr to get the string format of an object. Their intentions are different. We use str to return a friendly string format. We use repr to return a more detailed string format. repr is generally used by developers"
   ]
  },
  {
   "cell_type": "code",
   "execution_count": null,
   "id": "26157cb8",
   "metadata": {},
   "outputs": [
    {
     "name": "stdout",
     "output_type": "stream",
     "text": [
      "Ram\n",
      "This is my own string Ram\n"
     ]
    },
    {
     "ename": "",
     "evalue": "",
     "output_type": "error",
     "traceback": [
      "\u001b[1;31mThe Kernel crashed while executing code in the current cell or a previous cell. \n",
      "\u001b[1;31mPlease review the code in the cell(s) to identify a possible cause of the failure. \n",
      "\u001b[1;31mClick <a href='https://aka.ms/vscodeJupyterKernelCrash'>here</a> for more info. \n",
      "\u001b[1;31mView Jupyter <a href='command:jupyter.viewOutput'>log</a> for further details."
     ]
    }
   ],
   "source": [
    "class Person:\n",
    "    def __init__(self, name, age):\n",
    "        self.name=name\n",
    "        self.age=age\n",
    "\n",
    "    def __str__(self):\n",
    "        return self.name\n",
    "\n",
    "    def __repr__(self):\n",
    "        return f\"This is my own custom string {self.name}\"\n",
    "\n",
    "person=Person(\"Ram\",24)\n",
    "print(person)\n",
    "print(repr(person))"
   ]
  }
 ],
 "metadata": {
  "kernelspec": {
   "display_name": "Python 3",
   "language": "python",
   "name": "python3"
  },
  "language_info": {
   "codemirror_mode": {
    "name": "ipython",
    "version": 3
   },
   "file_extension": ".py",
   "mimetype": "text/x-python",
   "name": "python",
   "nbconvert_exporter": "python",
   "pygments_lexer": "ipython3",
   "version": "3.12.0"
  }
 },
 "nbformat": 4,
 "nbformat_minor": 5
}
