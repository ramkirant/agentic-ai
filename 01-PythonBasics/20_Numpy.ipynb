{
 "cells": [
  {
   "cell_type": "markdown",
   "id": "59c530a1",
   "metadata": {},
   "source": [
    "## Numpy\n",
    "\n",
    "Numpy is a fundamental library for scientific computing in Python. It provides support for arrays and matrices, along with a collection of mathematical functions to operate on these datastructures"
   ]
  },
  {
   "cell_type": "code",
   "execution_count": 7,
   "id": "85d3f5e0",
   "metadata": {},
   "outputs": [
    {
     "name": "stdout",
     "output_type": "stream",
     "text": [
      "[1 2 3 4 5]\n",
      "(5,)\n"
     ]
    }
   ],
   "source": [
    "import numpy as np\n",
    "\n",
    "## create array using numpy\n",
    "## create a 1D array\n",
    "arr1=np.array([1,2,3,4,5])\n",
    "print(arr1)\n",
    "\n",
    "## The shape of this array is (5,). This is a single dimension array with 5 elements. Thats the reason it returned (5,). \n",
    "# Whenever there is a blank on second element, it means it is a single dimension array. Here we dont have any specific rows or columns. \n",
    "print(arr1.shape)"
   ]
  },
  {
   "cell_type": "code",
   "execution_count": 19,
   "id": "5cbf4138",
   "metadata": {},
   "outputs": [
    {
     "data": {
      "text/plain": [
       "array([1, 2, 3, 4, 5])"
      ]
     },
     "execution_count": 19,
     "metadata": {},
     "output_type": "execute_result"
    }
   ],
   "source": [
    "## THIS IS NOT WORKING\n",
    "## Reshaping the array to a two dimensional array\n",
    "arr2=np.array([1,2,3,4,5])\n",
    "arr2.reshape(1,5) ## 1 row and 5 columns\n",
    "arr2"
   ]
  },
  {
   "cell_type": "code",
   "execution_count": null,
   "id": "4c609bdf",
   "metadata": {},
   "outputs": [
    {
     "data": {
      "text/plain": [
       "(1, 5)"
      ]
     },
     "execution_count": 10,
     "metadata": {},
     "output_type": "execute_result"
    }
   ],
   "source": [
    "## Creating a two dimensional array\n",
    "## We can create a two dimensional array by giving a nested list (list of lists) as an input to np.array\n",
    "arr3 = np.array([[1,2,3,4,5]])\n",
    "arr3.shape"
   ]
  },
  {
   "cell_type": "code",
   "execution_count": 28,
   "id": "3374c50b",
   "metadata": {},
   "outputs": [
    {
     "data": {
      "text/plain": [
       "array([[1, 2, 3, 4, 5],\n",
       "       [2, 3, 4, 5, 6]])"
      ]
     },
     "execution_count": 28,
     "metadata": {},
     "output_type": "execute_result"
    }
   ],
   "source": [
    "arr4 = np.array([[1,2,3,4,5],[2,3,4,5,6]])\n",
    "arr4\n"
   ]
  },
  {
   "cell_type": "code",
   "execution_count": null,
   "id": "b3760e81",
   "metadata": {},
   "outputs": [
    {
     "data": {
      "text/plain": [
       "array([0, 2, 4, 6, 8])"
      ]
     },
     "execution_count": 20,
     "metadata": {},
     "output_type": "execute_result"
    }
   ],
   "source": [
    "#This creates a one dimensional array starting from 0 (inclusive) and ending with 10 (exclusive) and will have a step count of 2 (takes every 2nd element)\n",
    "np.arange(0,10,2)"
   ]
  },
  {
   "cell_type": "code",
   "execution_count": null,
   "id": "7193e760",
   "metadata": {},
   "outputs": [
    {
     "data": {
      "text/plain": [
       "array([[1., 1., 1., 1.],\n",
       "       [1., 1., 1., 1.],\n",
       "       [1., 1., 1., 1.]])"
      ]
     },
     "execution_count": 21,
     "metadata": {},
     "output_type": "execute_result"
    }
   ],
   "source": [
    "## This function will create a two dimensional array with 3 rows and 4 columns and all elements are 1\n",
    "## Remember it takes a set as an input. Check the double openeing and closing braces\n",
    "## This function will help us create an initial array with all values initialized to 1. Saves us effort from populating the values manually\n",
    "np.ones((3,4))"
   ]
  },
  {
   "cell_type": "code",
   "execution_count": 24,
   "id": "dd8d715b",
   "metadata": {},
   "outputs": [
    {
     "data": {
      "text/plain": [
       "array([[1., 0., 0.],\n",
       "       [0., 1., 0.],\n",
       "       [0., 0., 1.]])"
      ]
     },
     "execution_count": 24,
     "metadata": {},
     "output_type": "execute_result"
    }
   ],
   "source": [
    "## identity matrix. In Identity matrix, number of rows and columns will be save. All the diagonal elements will be 1 and remaining will be zero. \n",
    "np.eye(3)"
   ]
  },
  {
   "cell_type": "code",
   "execution_count": 33,
   "id": "ddc326b8",
   "metadata": {},
   "outputs": [
    {
     "name": "stdout",
     "output_type": "stream",
     "text": [
      "Array:\n",
      " [[1 2 3]\n",
      " [4 5 6]]\n",
      "Shape:  (2, 3)\n",
      "Number of dimensions: 2\n",
      "Size (number of elements): 6\n",
      "Data type: int64\n",
      "Item size (in bytes) 8\n"
     ]
    }
   ],
   "source": [
    "arr = np.array([[1,2,3],[4,5,6]])\n",
    "\n",
    "print(\"Array:\\n\", arr)\n",
    "print(\"Shape: \", arr.shape)\n",
    "print(\"Number of dimensions:\", arr.ndim)\n",
    "print(\"Size (number of elements):\", arr.size)\n",
    "print(\"Data type:\", arr.dtype)\n",
    "print(\"Item size (in bytes)\", arr.itemsize)"
   ]
  },
  {
   "cell_type": "code",
   "execution_count": 47,
   "id": "7f8c9280",
   "metadata": {},
   "outputs": [
    {
     "data": {
      "text/plain": [
       "array([0.16666667, 0.28571429, 0.375     , 0.44444444, 5.        ])"
      ]
     },
     "execution_count": 47,
     "metadata": {},
     "output_type": "execute_result"
    }
   ],
   "source": [
    "## NumPy Vectorized Operations\n",
    "## For element wise operations to work, the number of elements in both the arrays should be the same\n",
    "## For element wise operations to work, the datatype of elements to be added should be the same. \n",
    "\n",
    "arr1 = np.array([1,2,3,4,5,])\n",
    "arr2 = np.array([6,7,8,9,1])\n",
    "\n",
    "## Element wise addition\n",
    "arr1+arr2\n",
    "\n",
    "## Element wise subtraction \n",
    "arr1-arr2\n",
    "\n",
    "## Element wise multiplication\n",
    "arr1*arr2\n",
    "\n",
    "## Element wise division\n",
    "arr1/arr2"
   ]
  },
  {
   "cell_type": "code",
   "execution_count": 50,
   "id": "be330982",
   "metadata": {},
   "outputs": [
    {
     "name": "stdout",
     "output_type": "stream",
     "text": [
      "[1.         1.41421356 1.73205081 2.         2.23606798]\n",
      "[  2.71828183   7.3890561   20.08553692  54.59815003 148.4131591 ]\n",
      "[ 0.84147098  0.90929743  0.14112001 -0.7568025  -0.95892427]\n",
      "[0.         0.69314718 1.09861229 1.38629436 1.60943791]\n"
     ]
    }
   ],
   "source": [
    "## Universal functions\n",
    "## Functions that are applicable to all the elements of the array\n",
    "\n",
    "arr = np.array([1,2,3,4,5])\n",
    "\n",
    "## Square root\n",
    "print(np.sqrt(arr))\n",
    "\n",
    "## Exponential\n",
    "print(np.exp(arr))\n",
    "\n",
    "## Sine\n",
    "print(np.sin(arr))\n",
    "\n",
    "## natural log\n",
    "print(np.log(arr))"
   ]
  },
  {
   "cell_type": "code",
   "execution_count": null,
   "id": "fbef89aa",
   "metadata": {},
   "outputs": [
    {
     "data": {
      "text/plain": [
       "array([6, 7, 8])"
      ]
     },
     "execution_count": 68,
     "metadata": {},
     "output_type": "execute_result"
    }
   ],
   "source": [
    "## array slicing and indexing\n",
    "\n",
    "arr = np.array([[1,2,3,4,5],[5,6,7,8,9],[4,5,6,7,8]])\n",
    "\n",
    "## Fetch row at an index\n",
    "arr[1]\n",
    "\n",
    "## Fetch a particular field in a row\n",
    "arr[1][1]\n",
    "\n",
    "## Fetch all the rows starting from the second row\n",
    "arr[1:]\n",
    "\n",
    "## Fetch all the records from 1st row from 2nd index\n",
    "arr[1,1:]\n",
    "\n",
    "## Slice a square of the last 4 elements\n",
    "arr[1:,3:]\n",
    "\n",
    "## From the second row, slice the mid three elements. Here, the upper boundi s not inclusive\n",
    "arr[1,1:4]\n"
   ]
  },
  {
   "cell_type": "code",
   "execution_count": 75,
   "id": "c9c0f73d",
   "metadata": {},
   "outputs": [
    {
     "data": {
      "text/plain": [
       "array([[ 100,    2,    3,    4,    5],\n",
       "       [1000, 1000, 1000, 1000, 1000],\n",
       "       [1000, 1000, 1000, 1000, 1000]])"
      ]
     },
     "execution_count": 75,
     "metadata": {},
     "output_type": "execute_result"
    }
   ],
   "source": [
    "## Modify array elements\n",
    "arr[0,0]=100\n",
    "\n",
    "## Modify all the elements from 1st row to 1000\n",
    "arr[1:]=1000\n",
    "\n",
    "arr"
   ]
  },
  {
   "cell_type": "code",
   "execution_count": 76,
   "id": "8c8546cf",
   "metadata": {},
   "outputs": [
    {
     "name": "stdout",
     "output_type": "stream",
     "text": [
      "Normalized data: [-1.41421356 -0.70710678  0.          0.70710678  1.41421356]\n"
     ]
    }
   ],
   "source": [
    "## Statistical concepts - Normalization\n",
    "## To have a mean of 0 and standard deviation of 1\n",
    "\n",
    "data = np.array([1,2,3,4,5])\n",
    "mean = np.mean(data)\n",
    "std_dev = np.std(data)\n",
    "\n",
    "normalized_data = (data - mean) / std_dev\n",
    "print(\"Normalized data:\", normalized_data)"
   ]
  },
  {
   "cell_type": "code",
   "execution_count": 80,
   "id": "c766571b",
   "metadata": {},
   "outputs": [
    {
     "name": "stdout",
     "output_type": "stream",
     "text": [
      "Mean:  3.0\n",
      "Median:  3.0\n",
      "Standard Deviation: 1.4142135623730951\n",
      "Variance: 2.0\n"
     ]
    }
   ],
   "source": [
    "## Statistical concepts - mean, median, standard deviation, variance\n",
    "\n",
    "data = np.array([1,2,3,4,5])\n",
    "\n",
    "mean = np.mean(data)\n",
    "print(\"Mean: \", mean)\n",
    "\n",
    "median = np.median(data)\n",
    "print(\"Median: \", median)\n",
    "\n",
    "std_dev = np.std(data)\n",
    "print(\"Standard Deviation:\", std_dev)\n",
    "\n",
    "variance = np.var(data)\n",
    "print(\"Variance:\", variance)"
   ]
  },
  {
   "cell_type": "code",
   "execution_count": 83,
   "id": "85814be6",
   "metadata": {},
   "outputs": [
    {
     "data": {
      "text/plain": [
       "array([6, 7])"
      ]
     },
     "execution_count": 83,
     "metadata": {},
     "output_type": "execute_result"
    }
   ],
   "source": [
    "## Logical operations\n",
    "data = np.array([1,2,3,4,5,6,7,8,9,10])\n",
    "data > 5\n",
    "\n",
    "## Retrieve all the elements that have a value greater than 5\n",
    "data[data>5]\n",
    "\n",
    "## Retrieve all the elements that are greater than 5 and lesser than 8\n",
    "data[(data>5) & (data<8)]"
   ]
  }
 ],
 "metadata": {
  "kernelspec": {
   "display_name": "Python 3",
   "language": "python",
   "name": "python3"
  },
  "language_info": {
   "codemirror_mode": {
    "name": "ipython",
    "version": 3
   },
   "file_extension": ".py",
   "mimetype": "text/x-python",
   "name": "python",
   "nbconvert_exporter": "python",
   "pygments_lexer": "ipython3",
   "version": "3.12.0"
  }
 },
 "nbformat": 4,
 "nbformat_minor": 5
}
