{
 "cells": [
  {
   "cell_type": "markdown",
   "id": "e83991b8",
   "metadata": {},
   "source": [
    "## Importing Modules in Python: Modules and Packages\n",
    "\n",
    "In Python, modules and packages help organize and reuse code. "
   ]
  },
  {
   "cell_type": "code",
   "execution_count": null,
   "id": "a54764e3",
   "metadata": {},
   "outputs": [
    {
     "data": {
      "text/plain": [
       "4.0"
      ]
     },
     "execution_count": 1,
     "metadata": {},
     "output_type": "execute_result"
    }
   ],
   "source": [
    "# Import an entire module\n",
    "import math\n",
    "\n",
    "math.sqrt(16)"
   ]
  },
  {
   "cell_type": "code",
   "execution_count": 2,
   "id": "d1acbaf3",
   "metadata": {},
   "outputs": [
    {
     "data": {
      "text/plain": [
       "4.0"
      ]
     },
     "execution_count": 2,
     "metadata": {},
     "output_type": "execute_result"
    }
   ],
   "source": [
    "# Import specific functions in a module\n",
    "from math import sqrt, pi\n",
    "\n",
    "sqrt(16)\n"
   ]
  },
  {
   "cell_type": "code",
   "execution_count": 5,
   "id": "c0baa3e8",
   "metadata": {},
   "outputs": [
    {
     "data": {
      "text/plain": [
       "array([1, 2, 3, 4])"
      ]
     },
     "execution_count": 5,
     "metadata": {},
     "output_type": "execute_result"
    }
   ],
   "source": [
    "# Use alias for modules\n",
    "import numpy as np\n",
    "\n",
    "# If a module is not found, you can install using pip install command. \n",
    "# If you have the list of modules in a file (requirements.txt) You can install all the modules using pip install -r requirements.txt\n",
    "np.array([1,2,3,4])"
   ]
  },
  {
   "cell_type": "code",
   "execution_count": 6,
   "id": "1fd201c6",
   "metadata": {},
   "outputs": [
    {
     "data": {
      "text/plain": [
       "4.0"
      ]
     },
     "execution_count": 6,
     "metadata": {},
     "output_type": "execute_result"
    }
   ],
   "source": [
    "# Import all the functions in a specific module\n",
    "from math import *\n",
    "sqrt(16)"
   ]
  },
  {
   "cell_type": "code",
   "execution_count": 8,
   "id": "47da407a",
   "metadata": {},
   "outputs": [
    {
     "data": {
      "text/plain": [
       "5"
      ]
     },
     "execution_count": 8,
     "metadata": {},
     "output_type": "execute_result"
    }
   ],
   "source": [
    "from package.maths import addition\n",
    "\n",
    "addition(2,3)"
   ]
  },
  {
   "cell_type": "code",
   "execution_count": 9,
   "id": "35bc6cad",
   "metadata": {},
   "outputs": [
    {
     "data": {
      "text/plain": [
       "6"
      ]
     },
     "execution_count": 9,
     "metadata": {},
     "output_type": "execute_result"
    }
   ],
   "source": [
    "from package.subpackage.mul import multiply\n",
    "\n",
    "multiply(2,3)"
   ]
  }
 ],
 "metadata": {
  "kernelspec": {
   "display_name": "Python 3",
   "language": "python",
   "name": "python3"
  },
  "language_info": {
   "codemirror_mode": {
    "name": "ipython",
    "version": 3
   },
   "file_extension": ".py",
   "mimetype": "text/x-python",
   "name": "python",
   "nbconvert_exporter": "python",
   "pygments_lexer": "ipython3",
   "version": "3.12.0"
  }
 },
 "nbformat": 4,
 "nbformat_minor": 5
}
