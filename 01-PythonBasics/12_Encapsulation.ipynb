{
 "cells": [
  {
   "cell_type": "markdown",
   "id": "468ac9d0",
   "metadata": {},
   "source": [
    "## Encapsulation\n",
    "\n",
    "Encapsulation is the concept of wrapping data (variables) and methods (functions) together as a single unit. It restricts direct access to some of the object's components, which is a means of preventing accidental interference and misuse of data"
   ]
  },
  {
   "cell_type": "code",
   "execution_count": null,
   "id": "fa49119a",
   "metadata": {},
   "outputs": [
    {
     "name": "stdout",
     "output_type": "stream",
     "text": [
      "Krish\n"
     ]
    }
   ],
   "source": [
    "## Encapsulation with Getter and Setter Methods\n",
    "\n",
    "## Public, Protected and Private Variables\n",
    "\n",
    "\n",
    "## Creation of Public Variables\n",
    "class Person:\n",
    "    def __init__(self, name, age):\n",
    "        self.name=name ## Public variable\n",
    "        self.age=age   ## Public variable\n",
    "\n",
    "person=Person(\"Krish\",34)\n",
    "\n",
    "## We are able to directly access the name variable as the variable is public\n",
    "print(person.name)"
   ]
  },
  {
   "cell_type": "code",
   "execution_count": 7,
   "id": "85ffc3b9",
   "metadata": {},
   "outputs": [
    {
     "name": "stdout",
     "output_type": "stream",
     "text": [
      "Krish\n"
     ]
    }
   ],
   "source": [
    "## Creation of Private Variables\n",
    "\n",
    "## Private variables can be created by prefixing their name with __ when declared in the constructor\n",
    "class Person:\n",
    "    def __init__(self, name, age):\n",
    "        self.__name=name ## Private variable\n",
    "        self.__age=age   ## Private variable\n",
    "\n",
    "    def print_name(self):\n",
    "        print(self.__name)\n",
    "\n",
    "person=Person(\"Krish\",34)\n",
    "\n",
    "## This will not throw the error as the variable is used by the class method.\n",
    "person.print_name()\n",
    "\n",
    "## This will throw an error as this variable is private\n",
    "#print(person.__name)"
   ]
  },
  {
   "cell_type": "code",
   "execution_count": null,
   "id": "eb03ea01",
   "metadata": {},
   "outputs": [],
   "source": [
    "## Creation of Protected Variables\n",
    "\n",
    "## Protected variables can be created by prefixing their name with _ when declared in the constructor\n",
    "class Person:\n",
    "    def __init__(self, name, age):\n",
    "        self._name=name ## Protected variable\n",
    "        self._age=age   ## Protected variable\n",
    "\n",
    "    def print_name(self):\n",
    "        print(self._name)\n",
    "\n",
    "person=Person(\"Krish\",34)\n",
    "\n",
    "## This will not throw the error as the variable is used by the class method.\n",
    "person.print_name()\n",
    "\n",
    "## This will throw an error as this variable is private\n",
    "#print(person.__name)"
   ]
  },
  {
   "cell_type": "code",
   "execution_count": 8,
   "id": "08f60c47",
   "metadata": {},
   "outputs": [
    {
     "name": "stdout",
     "output_type": "stream",
     "text": [
      "Krisssh\n"
     ]
    }
   ],
   "source": [
    "## Encapsulation with getter and setter\n",
    "\n",
    "class Person:\n",
    "    def __init__(self, name, age):\n",
    "        self.__name=name ## Private variable\n",
    "        self.__age=age   ## Private variable\n",
    "\n",
    "    ## getter method for name\n",
    "    def get_name(self):\n",
    "        return self.__name\n",
    "    \n",
    "    ## setter method for name\n",
    "    def set_name(self, name):\n",
    "        self.__name=name\n",
    "\n",
    "person = Person(\"Krish\",24)\n",
    "person.set_name(\"Krisssh\")\n",
    "print(person.get_name())\n"
   ]
  },
  {
   "cell_type": "code",
   "execution_count": 11,
   "id": "498c5cb6",
   "metadata": {},
   "outputs": [
    {
     "name": "stdout",
     "output_type": "stream",
     "text": [
      "Ram Kiran\n"
     ]
    }
   ],
   "source": [
    "## Private methods\n",
    "## In Python, private methods can be created by prifixing them with __\n",
    "\n",
    "class Person:\n",
    "    def __init__(self, first_name, last_name, age):\n",
    "        self.__first_name=first_name\n",
    "        self.__last_name=last_name\n",
    "        self.__age=age\n",
    "\n",
    "    def __concatenate_name(self):\n",
    "        return self.__first_name+' '+self.__last_name\n",
    "    \n",
    "    def get_name(self):\n",
    "        return self.__concatenate_name()\n",
    "    \n",
    "person = Person(\"Ram\",\"Kiran\",24)\n",
    "print(person.get_name())\n"
   ]
  }
 ],
 "metadata": {
  "kernelspec": {
   "display_name": "Python 3",
   "language": "python",
   "name": "python3"
  },
  "language_info": {
   "codemirror_mode": {
    "name": "ipython",
    "version": 3
   },
   "file_extension": ".py",
   "mimetype": "text/x-python",
   "name": "python",
   "nbconvert_exporter": "python",
   "pygments_lexer": "ipython3",
   "version": "3.12.0"
  }
 },
 "nbformat": 4,
 "nbformat_minor": 5
}
