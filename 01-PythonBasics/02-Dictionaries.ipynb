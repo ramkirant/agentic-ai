{
 "cells": [
  {
   "cell_type": "markdown",
   "id": "147c3509",
   "metadata": {},
   "source": [
    "## Dictionaries\n",
    "\n",
    "Dictionaries are unordered collection of items. They store data in key-value paris. Keys must be unique and immutable. Once we specifically define a key, it cannot be changed. Values are mutable. They can be changed. "
   ]
  },
  {
   "cell_type": "code",
   "execution_count": 2,
   "id": "2ce42cc6",
   "metadata": {},
   "outputs": [
    {
     "name": "stdout",
     "output_type": "stream",
     "text": [
      "<class 'dict'>\n"
     ]
    }
   ],
   "source": [
    "## Creating Empty Dictionaries\n",
    "empty_dict={}\n",
    "print(type(empty_dict))"
   ]
  },
  {
   "cell_type": "code",
   "execution_count": 4,
   "id": "47e5cd13",
   "metadata": {},
   "outputs": [
    {
     "name": "stdout",
     "output_type": "stream",
     "text": [
      "<class 'dict'>\n"
     ]
    }
   ],
   "source": [
    "empty_dict=dict()\n",
    "print(type(empty_dict))"
   ]
  },
  {
   "cell_type": "code",
   "execution_count": 6,
   "id": "dbed0974",
   "metadata": {},
   "outputs": [
    {
     "name": "stdout",
     "output_type": "stream",
     "text": [
      "{'name': 'Krish', 'age': 32, 'grade': 24}\n"
     ]
    }
   ],
   "source": [
    "student={\"name\":\"Krish\",\"age\":32,\"grade\":24}\n",
    "print(student)"
   ]
  },
  {
   "cell_type": "code",
   "execution_count": 8,
   "id": "75610179",
   "metadata": {},
   "outputs": [
    {
     "name": "stdout",
     "output_type": "stream",
     "text": [
      "{'name': 24, 'age': 32}\n"
     ]
    }
   ],
   "source": [
    "## If the keys are not unique, It will replace the value of the older key. \n",
    "student={\"name\":\"Krish\",\"age\":32,\"name\":24}\n",
    "print(student)"
   ]
  },
  {
   "cell_type": "code",
   "execution_count": 14,
   "id": "484a8452",
   "metadata": {},
   "outputs": [
    {
     "name": "stdout",
     "output_type": "stream",
     "text": [
      "A\n",
      "32\n",
      "A\n",
      "None\n",
      "Not Available\n"
     ]
    }
   ],
   "source": [
    "## Accessing dictionary elements\n",
    "student={\"name\":\"Krish\",\"age\":32,\"grade\":\"A\"}\n",
    "print(student[\"grade\"])\n",
    "print(student[\"age\"])\n",
    "\n",
    "## Accessing using get() method\n",
    "print(student.get(\"grade\"))\n",
    "\n",
    "## Accessing keys that dont exist. It returns None\n",
    "print(student.get(\"last_name\"))\n",
    "\n",
    "## If the key dont exist, we want to return a default value.\n",
    "print(student.get(\"last_name\",\"Not Available\"))"
   ]
  },
  {
   "cell_type": "code",
   "execution_count": 16,
   "id": "521d1a3e",
   "metadata": {},
   "outputs": [
    {
     "name": "stdout",
     "output_type": "stream",
     "text": [
      "{'name': 'Krish', 'age': 33, 'grade': 'A', 'last_name': 'Sethupathy'}\n"
     ]
    }
   ],
   "source": [
    "## Modifying dictionary elements\n",
    "## Dictionaries are mutable. We can add, update or delete elements\n",
    "\n",
    "student={\"name\":\"Krish\",\"age\":32,\"grade\":\"A\"}\n",
    "student[\"age\"]=33\n",
    "student[\"last_name\"]=\"Sethupathy\"\n",
    "print(student)"
   ]
  },
  {
   "cell_type": "code",
   "execution_count": 18,
   "id": "c7e0d93f",
   "metadata": {},
   "outputs": [
    {
     "name": "stdout",
     "output_type": "stream",
     "text": [
      "{'name': 'Krish', 'age': 32}\n"
     ]
    }
   ],
   "source": [
    "## Delete a key\n",
    "student={\"name\":\"Krish\",\"age\":32,\"grade\":\"A\"}\n",
    "del student[\"grade\"]\n",
    "print(student)"
   ]
  },
  {
   "cell_type": "code",
   "execution_count": 22,
   "id": "63a9c6b7",
   "metadata": {},
   "outputs": [
    {
     "name": "stdout",
     "output_type": "stream",
     "text": [
      "dict_keys(['name', 'age'])\n",
      "dict_values(['Krish', 32])\n",
      "dict_items([('name', 'Krish'), ('age', 32)])\n"
     ]
    }
   ],
   "source": [
    "## Dictionary methods\n",
    "\n",
    "keys=student.keys()\n",
    "print(keys)\n",
    "\n",
    "values=student.values()\n",
    "print(values)\n",
    "\n",
    "items=student.items() ## Get all key value pairs\n",
    "print(items)"
   ]
  },
  {
   "cell_type": "code",
   "execution_count": 26,
   "id": "96df7c70",
   "metadata": {},
   "outputs": [
    {
     "name": "stdout",
     "output_type": "stream",
     "text": [
      "{'name': 'Krish', 'age': 32, 'grade': 'A'}\n",
      "{'name': 'Krish', 'age': 32, 'grade': 'A'}\n",
      "{'name': 'Krish1', 'age': 32, 'grade': 'A'}\n",
      "{'name': 'Krish1', 'age': 32, 'grade': 'A'}\n",
      "{'name': 'Krish2', 'age': 32, 'grade': 'A'}\n",
      "{'name': 'Krish2', 'age': 32, 'grade': 'A'}\n",
      "{'name': 'Krish1', 'age': 32, 'grade': 'A'}\n"
     ]
    }
   ],
   "source": [
    "## Shallow Copy\n",
    "student={\"name\":\"Krish\",\"age\":32,\"grade\":\"A\"}\n",
    "student_copy = student\n",
    "\n",
    "print(student)\n",
    "print(student_copy)\n",
    "\n",
    "## The below will update in both student and student_copy. Use shallow copy if we dont want to update\n",
    "student[\"name\"]=\"Krish1\"\n",
    "print(student)\n",
    "print(student_copy)\n",
    "\n",
    "student_copy1=student.copy()\n",
    "student[\"name\"]=\"Krish2\"\n",
    "print(student)\n",
    "print(student_copy)\n",
    "print(student_copy1)\n"
   ]
  },
  {
   "cell_type": "code",
   "execution_count": 30,
   "id": "497f8e60",
   "metadata": {},
   "outputs": [
    {
     "name": "stdout",
     "output_type": "stream",
     "text": [
      "name\n",
      "age\n",
      "grade\n",
      "Krish2\n",
      "32\n",
      "A\n",
      "name\n",
      "Krish2\n",
      "age\n",
      "32\n",
      "grade\n",
      "A\n"
     ]
    }
   ],
   "source": [
    "## Iterating over dictionaries\n",
    "## We can use loops to iterate over dictionaries, keys, values or items \n",
    "\n",
    "## Iterating over keys\n",
    "for key in student.keys():\n",
    "    print(key)\n",
    "\n",
    "for value in student.values():\n",
    "    print(value)\n",
    "\n",
    "for key,value in student.items():\n",
    "    print(key)\n",
    "    print(value)"
   ]
  },
  {
   "cell_type": "code",
   "execution_count": 33,
   "id": "81d65bb2",
   "metadata": {},
   "outputs": [
    {
     "name": "stdout",
     "output_type": "stream",
     "text": [
      "{'student1': {'name': 'Krish1', 'age': 32}, 'student2': {'name': 'Krish2', 'age': 32}, 'student3': {'name': 'Krish3', 'age': 32}}\n"
     ]
    }
   ],
   "source": [
    "## Nested Dictionaries\n",
    "students={\n",
    "    \"student1\":{\"name\":\"Krish1\",\"age\":32},\n",
    "    \"student2\":{\"name\":\"Krish2\",\"age\":32},\n",
    "    \"student3\":{\"name\":\"Krish3\",\"age\":32}\n",
    "}\n",
    "\n",
    "print(students)"
   ]
  },
  {
   "cell_type": "code",
   "execution_count": 35,
   "id": "caef5178",
   "metadata": {},
   "outputs": [
    {
     "name": "stdout",
     "output_type": "stream",
     "text": [
      "{0: 0, 1: 1, 2: 4, 3: 9, 4: 16}\n"
     ]
    }
   ],
   "source": [
    "## Dictionary Comprehension\n",
    "squares={x:x**2 for x in range(5)}\n",
    "print(squares)"
   ]
  },
  {
   "cell_type": "code",
   "execution_count": 37,
   "id": "5ace99b5",
   "metadata": {},
   "outputs": [
    {
     "name": "stdout",
     "output_type": "stream",
     "text": [
      "{0: 0, 2: 4, 4: 16, 6: 36, 8: 64}\n"
     ]
    }
   ],
   "source": [
    "## Conditional Dictionary Comprehension\n",
    "evens={x:x**2 for x in range(10) if x%2==0}\n",
    "print(evens)"
   ]
  },
  {
   "cell_type": "code",
   "execution_count": null,
   "id": "eccc9414",
   "metadata": {},
   "outputs": [
    {
     "name": "stdout",
     "output_type": "stream",
     "text": [
      "{1: 1, 2: 2, 3: 3, 4: 4}\n"
     ]
    },
    {
     "ename": "",
     "evalue": "",
     "output_type": "error",
     "traceback": [
      "\u001b[1;31mThe Kernel crashed while executing code in the current cell or a previous cell. \n",
      "\u001b[1;31mPlease review the code in the cell(s) to identify a possible cause of the failure. \n",
      "\u001b[1;31mClick <a href='https://aka.ms/vscodeJupyterKernelCrash'>here</a> for more info. \n",
      "\u001b[1;31mView Jupyter <a href='command:jupyter.viewOutput'>log</a> for further details."
     ]
    }
   ],
   "source": [
    "## Practical Examples\n",
    "\n",
    "## Use a Dictionary to count the frequency of elements in list\n",
    "\n",
    "numbers=[1,2,2,3,3,3,4,4,4,4]\n",
    "frequency={}\n",
    "\n",
    "for number in numbers:\n",
    "    if number in frequency:\n",
    "        frequency[number]+=1\n",
    "    else:\n",
    "        frequency[number]=1\n",
    "\n",
    "print(frequency)"
   ]
  },
  {
   "cell_type": "code",
   "execution_count": null,
   "id": "82c7c411",
   "metadata": {},
   "outputs": [],
   "source": [
    "## Merge two dictionaries into one\n",
    "\n",
    "dict1={\"a\":1,\"b\":2}\n",
    "dict2={\"b\":3,\"c\":4}\n",
    "\n",
    "merged_dict={**dict1, **dict2}"
   ]
  }
 ],
 "metadata": {
  "kernelspec": {
   "display_name": "Python 3",
   "language": "python",
   "name": "python3"
  },
  "language_info": {
   "codemirror_mode": {
    "name": "ipython",
    "version": 3
   },
   "file_extension": ".py",
   "mimetype": "text/x-python",
   "name": "python",
   "nbconvert_exporter": "python",
   "pygments_lexer": "ipython3",
   "version": "3.12.0"
  }
 },
 "nbformat": 4,
 "nbformat_minor": 5
}
