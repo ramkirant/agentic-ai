{
 "cells": [
  {
   "cell_type": "code",
   "execution_count": 2,
   "id": "8c3d34e3",
   "metadata": {},
   "outputs": [
    {
     "name": "stdout",
     "output_type": "stream",
     "text": [
      "Woof!\n",
      "Meow!\n"
     ]
    }
   ],
   "source": [
    "## Method Overriding\n",
    "\n",
    "## Base Class\n",
    "class Animal:\n",
    "    def speak(self):\n",
    "        return \"Sound of the animal\"\n",
    "\n",
    "class Dog(Animal):\n",
    "    def speak(self):\n",
    "        return \"Woof!\"\n",
    "    \n",
    "class Cat(Animal):\n",
    "    def speak(self):\n",
    "        return \"Meow!\"\n",
    "\n",
    "def animal_speak(animal):\n",
    "    print(animal.speak())\n",
    "\n",
    "dog=Dog()\n",
    "cat=Cat()\n",
    "animal_speak(dog)\n",
    "animal_speak(cat)"
   ]
  },
  {
   "cell_type": "code",
   "execution_count": null,
   "id": "63b6a70c",
   "metadata": {},
   "outputs": [
    {
     "name": "stdout",
     "output_type": "stream",
     "text": [
      "Car engine started\n"
     ]
    }
   ],
   "source": [
    "## Polymorphism with Abstract Base Classes\n",
    "\n",
    "## Abstract Base Classes (ABCs) are used top define common methods for a group of related objects. They can enforce that derived classes implement particular methods, promoting consistency across different implementations. \n",
    "\n",
    "## Abstract Base Classes are similar to interfaces in Java\n",
    "\n",
    "## Abstract Base Classes can contain both abstract methods (methods for which concrete sub classes should provide implementation) and non abstract methods (methods that can be used by sub classes for common functionality)\n",
    "\n",
    "## If subclasses dont implement the abstract methods of Abstract Base Classes, python will throw an error\n",
    "\n",
    "## Abstract Base Classes cannot be instantiated\n",
    "\n",
    "## Abstract Base Classes can have a constructor. This will be helpful to share a common initialization behavior that can be shared across all the sub classes. \n",
    "\n",
    "## Abstract Methods in Abstract Base Classes should not have any implementation. While this is followed as a convention. Python will not throw any error if abstract methods have implementations\n",
    "\n",
    "from abc import ABC, abstractmethod\n",
    "\n",
    "## Define an abstract class\n",
    "class Vehicle(ABC):\n",
    "\n",
    "    ## Here @ operator acts as a decorator. In Python a decorator is a function that modifies the behavior of another function. \n",
    "\n",
    "    ## @abstractmethod decorator is used to define abstract methods in Abstract Base Classes\n",
    "    ## When we decorate a method using @abstractmethod, we indicate that this method needs to be implemented by any of its concrete subclasses\n",
    "    ## Abstract methods will not have any implementations of itself. \n",
    "    @abstractmethod\n",
    "    def start_engine(self):\n",
    "        pass\n",
    "\n",
    "## Derived class 1\n",
    "class Car(Vehicle):\n",
    "    def start_engine(self):\n",
    "        return \"Car engine started\"\n",
    "    \n",
    "class MotorCycle(Vehicle):\n",
    "    def start_engine(self):\n",
    "        return \"Motor Cycle engine started\"\n",
    "    \n",
    "## Function to demostrate polymorphism\n",
    "def start_vehicle(vehicle):\n",
    "    print(vehicle.start_engine())\n",
    "\n",
    "## Create objects\n",
    "car = Car()\n",
    "motorcycle = MotorCycle()\n",
    "\n",
    "start_vehicle(car)\n",
    "#start_vehicle(motorcycle)"
   ]
  }
 ],
 "metadata": {
  "kernelspec": {
   "display_name": "Python 3",
   "language": "python",
   "name": "python3"
  },
  "language_info": {
   "codemirror_mode": {
    "name": "ipython",
    "version": 3
   },
   "file_extension": ".py",
   "mimetype": "text/x-python",
   "name": "python",
   "nbconvert_exporter": "python",
   "pygments_lexer": "ipython3",
   "version": "3.12.0"
  }
 },
 "nbformat": 4,
 "nbformat_minor": 5
}
