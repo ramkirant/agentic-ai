{
 "cells": [
  {
   "cell_type": "markdown",
   "id": "80c9650e",
   "metadata": {},
   "source": [
    "## Type Hints\n",
    "\n",
    "Type Hints are a way to annotate our Python code with the expected datatypes of variables, function arguments, and return values. \n",
    "\n",
    "They dont change how our code runs at run time, but they provide valuable information for:\n",
    "\n",
    "- Readability\n",
    "\n",
    "    Type Hints make it immediately clear what kind of data a variable or function is supposed to handle. This is especially helful when we are revisiting code we wrote a while ago or when collaborating with others.\n",
    "\n",
    "- Error Detection\n",
    "\n",
    "    Type checkers (like mypy) can analyze our code and identify potential type-related errors before we run the program. This can save us a lot of debugging time. \n",
    "\n",
    "- Code Completion and Refactoring\n",
    "\n",
    "    IDEs use type hints to provide better code completion suggestions and make refactoring tasks easier\n",
    "\n",
    "- Documentation\n",
    "\n",
    "    Type hints serve as a form of documentation, clearly stating the expected types"
   ]
  },
  {
   "cell_type": "code",
   "execution_count": null,
   "id": "1a971e55",
   "metadata": {},
   "outputs": [],
   "source": [
    "## Variable Annotations. \n",
    "## We annotate a variable by adding a column followed by the type after the variable name.\n",
    "\n",
    "age: int = 30\n",
    "name: str = \"John\"\n",
    "height: float = 5.9"
   ]
  },
  {
   "cell_type": "code",
   "execution_count": null,
   "id": "5309b3aa",
   "metadata": {},
   "outputs": [],
   "source": [
    "## Function Annotations\n",
    "## We can annotate function arguments and the return value\n",
    "\n",
    "def greet(name: str) -> str:\n",
    "    return f\"Hello, {name}!\""
   ]
  },
  {
   "cell_type": "code",
   "execution_count": null,
   "id": "d15be65e",
   "metadata": {},
   "outputs": [],
   "source": [
    "## Type Aliases\n",
    "\n",
    "## We can define our own type aliases to make our code more readable\n",
    "\n",
    "from typing import List\n",
    "\n",
    "UserId = int\n",
    "UserList = List[UserId]\n",
    "\n",
    "def get_user_ids() -> UserList:\n",
    "    return [1, 2, 3, 4, 5]"
   ]
  }
 ],
 "metadata": {
  "kernelspec": {
   "display_name": "Python 3",
   "language": "python",
   "name": "python3"
  },
  "language_info": {
   "codemirror_mode": {
    "name": "ipython",
    "version": 3
   },
   "file_extension": ".py",
   "mimetype": "text/x-python",
   "name": "python",
   "nbconvert_exporter": "python",
   "pygments_lexer": "ipython3",
   "version": "3.12.0"
  }
 },
 "nbformat": 4,
 "nbformat_minor": 5
}
