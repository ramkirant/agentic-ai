{
 "cells": [
  {
   "cell_type": "markdown",
   "id": "86093501",
   "metadata": {},
   "source": [
    "## Tuples\n",
    "Tuples are ordered collections of items that are immutable. They are similar to lists, but their immutability makes them different"
   ]
  },
  {
   "cell_type": "code",
   "execution_count": 2,
   "id": "9997c11e",
   "metadata": {},
   "outputs": [
    {
     "name": "stdout",
     "output_type": "stream",
     "text": [
      "<class 'tuple'>\n"
     ]
    }
   ],
   "source": [
    "## Creating a tuple\n",
    "empty_tuple=()\n",
    "print(type(empty_tuple))"
   ]
  },
  {
   "cell_type": "code",
   "execution_count": 4,
   "id": "36c0f8c0",
   "metadata": {},
   "outputs": [
    {
     "name": "stdout",
     "output_type": "stream",
     "text": [
      "<class 'tuple'>\n",
      "<class 'list'>\n"
     ]
    }
   ],
   "source": [
    "## Convert a list to a tuple\n",
    "numbers_tpl=tuple([1,2,3,4,5,6])\n",
    "\n",
    "## Convert a tuple to a list\n",
    "numbers_lst=list((1,2,3,4,5,6))\n",
    "\n",
    "print(type(numbers_tpl))\n",
    "print(type(numbers_lst))"
   ]
  },
  {
   "cell_type": "code",
   "execution_count": 6,
   "id": "9077b966",
   "metadata": {},
   "outputs": [],
   "source": [
    "## Tuple can be of mixed datatypes\n",
    "mixed_tpl=(1,\"Hello World\", True)"
   ]
  },
  {
   "cell_type": "code",
   "execution_count": 12,
   "id": "4d051bb2",
   "metadata": {},
   "outputs": [
    {
     "name": "stdout",
     "output_type": "stream",
     "text": [
      "3\n",
      "6\n"
     ]
    }
   ],
   "source": [
    "## Accessing Tuple Elements\n",
    "tpl=(1,2,3,4,5,6)\n",
    "print(tpl[2])\n",
    "print(tpl[-1])"
   ]
  },
  {
   "cell_type": "code",
   "execution_count": 15,
   "id": "290d7750",
   "metadata": {},
   "outputs": [
    {
     "name": "stdout",
     "output_type": "stream",
     "text": [
      "(1, 2, 3, 4)\n"
     ]
    }
   ],
   "source": [
    "## Slicing of tuples\n",
    "print(tpl[0:4])"
   ]
  },
  {
   "cell_type": "code",
   "execution_count": 20,
   "id": "ec238bed",
   "metadata": {},
   "outputs": [
    {
     "name": "stdout",
     "output_type": "stream",
     "text": [
      "(1, 2, 3, 4, 5, 6, 1, 'Hello World', True)\n",
      "(1, 2, 3, 4, 5, 6, 1, 2, 3, 4, 5, 6, 1, 2, 3, 4, 5, 6)\n"
     ]
    }
   ],
   "source": [
    "## Tuple Operations\n",
    "\n",
    "## Adding Tuples\n",
    "concatenated_tuple=numbers_tpl+mixed_tpl\n",
    "print(concatenated_tuple)\n",
    "\n",
    "## Multiplying Tuples. Whenever we multiple tuples, it repeats the values the number of times we have multiplied. \n",
    "print(tpl*3)"
   ]
  },
  {
   "cell_type": "code",
   "execution_count": 28,
   "id": "ec2a9542",
   "metadata": {},
   "outputs": [
    {
     "name": "stdout",
     "output_type": "stream",
     "text": [
      "[1, 2, 3, 4, 5]\n",
      "[1, 8, 3, 4, 5]\n",
      "(1, 9, 3, 4, 5, 6)\n"
     ]
    }
   ],
   "source": [
    "## Immutable Nature of Tuples\n",
    "\n",
    "lst=[1,2,3,4,5]\n",
    "print(lst)\n",
    "\n",
    "## This will not throw an error as lists are mutable.\n",
    "lst[1]=8\n",
    "print(lst)\n",
    "\n",
    "##The below will throw an error as tuples are immutable.\n",
    "#numbers_tpl[1]=9\n",
    "\n",
    "##If we want to change the elements of a tuple, we need to convert it to a list, modify the element and convert it back to the tuple\n",
    "numbers_lst=list(numbers_tpl)\n",
    "numbers_lst[1]=9\n",
    "numbers_tpl=tuple(numbers_lst)\n",
    "print(numbers_tpl)"
   ]
  },
  {
   "cell_type": "code",
   "execution_count": 32,
   "id": "4796b3ea",
   "metadata": {},
   "outputs": [
    {
     "name": "stdout",
     "output_type": "stream",
     "text": [
      "1\n",
      "2\n"
     ]
    }
   ],
   "source": [
    "## Tuple methods\n",
    "\n",
    "## Count the number of times an element is present in the tuple\n",
    "print(numbers_tpl.count(1))\n",
    "\n",
    "## Get the element that is present at an index\n",
    "print(numbers_tpl.index(3))"
   ]
  },
  {
   "cell_type": "code",
   "execution_count": 40,
   "id": "94559947",
   "metadata": {},
   "outputs": [
    {
     "name": "stdout",
     "output_type": "stream",
     "text": [
      "(1, 'Hello', 3.14)\n",
      "1\n",
      "Hello\n",
      "3.14\n",
      "1\n",
      "[2, 3, 4, 5]\n",
      "6\n"
     ]
    }
   ],
   "source": [
    "## Packing and unpacking tuple\n",
    "\n",
    "## We can assign three different variables, comma seperated to a tuple to pack it into a tuple.\n",
    "packed_tpl=1,\"Hello\",3.14\n",
    "print(packed_tpl)\n",
    "\n",
    "## We can unpack the tuple into three different variables bu reverse assignment as below\n",
    "a,b,c=packed_tpl\n",
    "print(a)\n",
    "print(b)\n",
    "print(c)\n",
    "\n",
    "## Unpacking with *. In the below, It will create a new tuple for all the values between first and last\n",
    "numbers=(1,2,3,4,5,6)\n",
    "first,*middle,last=numbers\n",
    "print(first)\n",
    "print(middle)\n",
    "print(last)"
   ]
  },
  {
   "cell_type": "code",
   "execution_count": null,
   "id": "a04bc642",
   "metadata": {},
   "outputs": [
    {
     "ename": "",
     "evalue": "",
     "output_type": "error",
     "traceback": [
      "\u001b[1;31mThe Kernel crashed while executing code in the current cell or a previous cell. \n",
      "\u001b[1;31mPlease review the code in the cell(s) to identify a possible cause of the failure. \n",
      "\u001b[1;31mClick <a href='https://aka.ms/vscodeJupyterKernelCrash'>here</a> for more info. \n",
      "\u001b[1;31mView Jupyter <a href='command:jupyter.viewOutput'>log</a> for further details."
     ]
    }
   ],
   "source": [
    "## Nested Tuple\n",
    "nested_tpl=(1,2,(3,4,5),6,7,8)"
   ]
  }
 ],
 "metadata": {
  "kernelspec": {
   "display_name": "Python 3",
   "language": "python",
   "name": "python3"
  },
  "language_info": {
   "codemirror_mode": {
    "name": "ipython",
    "version": 3
   },
   "file_extension": ".py",
   "mimetype": "text/x-python",
   "name": "python",
   "nbconvert_exporter": "python",
   "pygments_lexer": "ipython3",
   "version": "3.12.0"
  }
 },
 "nbformat": 4,
 "nbformat_minor": 5
}
