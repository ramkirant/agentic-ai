{
 "cells": [
  {
   "cell_type": "markdown",
   "id": "7e1fdb87",
   "metadata": {},
   "source": [
    "## Text Splitting - CharacterTextSplitter\n",
    "\n",
    "CharacterTextSplitter is a simpler cousin of RecursiveCharacterTextSplitter. \n",
    "\n",
    "- It simply splits text into chunks of a given size (chunk_size)\n",
    "- It can add some overlap between chunks (chunk_overlap)\n",
    "- It does not care about natural language structure (paragraphs, sentences). It just slices based on raw characters. \n",
    "\n",
    "With CharacterTextSplitter we define a separator (default is \\n\\n).\n",
    "\n",
    "- CharacterTextSplitter will first try to split the text based on the seperator. While doing so, the created chunks may be greater than the chunk_size.\n",
    "- If no seperator is found, it will split the text into equal character chunks based on the chunk_size.\n"
   ]
  },
  {
   "cell_type": "markdown",
   "id": "dbbcb31b",
   "metadata": {},
   "source": [
    "### Load the Data"
   ]
  },
  {
   "cell_type": "code",
   "execution_count": 1,
   "id": "8cd659b4",
   "metadata": {},
   "outputs": [],
   "source": [
    "from langchain_community.document_loaders import TextLoader\n",
    "\n",
    "## Initialize the TextLoader\n",
    "loader = TextLoader('sampletext.txt')\n",
    "\n",
    "## The below code will load the content of the text file.\n",
    "text_documents=loader.load()"
   ]
  },
  {
   "cell_type": "markdown",
   "id": "e49dab5f",
   "metadata": {},
   "source": [
    "### Split Documents into Documents"
   ]
  },
  {
   "cell_type": "code",
   "execution_count": 2,
   "id": "7d87e3fe",
   "metadata": {},
   "outputs": [
    {
     "name": "stderr",
     "output_type": "stream",
     "text": [
      "Created a chunk of size 555, which is longer than the specified 100\n",
      "Created a chunk of size 624, which is longer than the specified 100\n"
     ]
    },
    {
     "data": {
      "text/plain": [
       "[Document(metadata={'source': 'sampletext.txt'}, page_content='Agentic AI is a class of artificial intelligence that focuses on autonomous systems that can make decisions and perform tasks with or without human intervention. The independent systems automatically respond to conditions, with procedural, algorithmic, and human-like creative steps, to produce process results. The field is closely linked to agentic automation, also known as agent-based process management systems, when applied to process automation. Applications include software development, customer support, cybersecurity and business intelligence.'),\n",
       " Document(metadata={'source': 'sampletext.txt'}, page_content='The core concept of agentic AI is the use of AI agents to perform automated tasks with or without human intervention.[1] While robotic process automation (RPA) systems automate rule-based, repetitive tasks with fixed logic, agentic AI adapts and learns from data inputs. [2] Agentic AI refers to autonomous systems capable of pursuing complex goals with minimal human intervention, often making decisions based on continuous learning and external data. [3] Functioning agents can require various AI techniques, such as natural language processing, machine learning (ML), and computer vision, depending on the environment.[1]'),\n",
       " Document(metadata={'source': 'sampletext.txt'}, page_content='Particularly, reinforcement learning (RL) is essential in assisting agentic AI in making self-directed choices by supporting agents in learning best actions through the trial-and-error method. Agents using RL continuously to explore their surroundings will be given rewards or punishment for their actions, which refines their decision-making capability over time. All the while deep learning, as opposed to rule-based methods, supports agentic AI through multi-layered neural networks to learn features from extensive and complex sets of data. Further, multimodal learning enable AI agents to integrate various types of information, such as text, images, audio and video.[4] As a result, agentic AI systems are capable of making independent decisions, interacting with their environment and optimizing processes without a human directly intervening.[4]')]"
      ]
     },
     "execution_count": 2,
     "metadata": {},
     "output_type": "execute_result"
    }
   ],
   "source": [
    "from langchain_text_splitters import CharacterTextSplitter\n",
    "\n",
    "text_splitter = CharacterTextSplitter(\n",
    "    separator = \"\\n\\n\",\n",
    "    chunk_size = 100,\n",
    "    chunk_overlap  = 20)\n",
    "\n",
    "texts = text_splitter.split_documents(text_documents)\n",
    "texts"
   ]
  },
  {
   "cell_type": "code",
   "execution_count": 5,
   "id": "3d673d6e",
   "metadata": {},
   "outputs": [
    {
     "name": "stderr",
     "output_type": "stream",
     "text": [
      "Created a chunk of size 555, which is longer than the specified 100\n",
      "Created a chunk of size 624, which is longer than the specified 100\n"
     ]
    },
    {
     "data": {
      "text/plain": [
       "[Document(metadata={}, page_content='Agentic AI is a class of artificial intelligence that focuses on autonomous systems that can make decisions and perform tasks with or without human intervention. The independent systems automatically respond to conditions, with procedural, algorithmic, and human-like creative steps, to produce process results. The field is closely linked to agentic automation, also known as agent-based process management systems, when applied to process automation. Applications include software development, customer support, cybersecurity and business intelligence.'),\n",
       " Document(metadata={}, page_content='The core concept of agentic AI is the use of AI agents to perform automated tasks with or without human intervention.[1] While robotic process automation (RPA) systems automate rule-based, repetitive tasks with fixed logic, agentic AI adapts and learns from data inputs. [2] Agentic AI refers to autonomous systems capable of pursuing complex goals with minimal human intervention, often making decisions based on continuous learning and external data. [3] Functioning agents can require various AI techniques, such as natural language processing, machine learning (ML), and computer vision, depending on the environment.[1]'),\n",
       " Document(metadata={}, page_content='Particularly, reinforcement learning (RL) is essential in assisting agentic AI in making self-directed choices by supporting agents in learning best actions through the trial-and-error method. Agents using RL continuously to explore their surroundings will be given rewards or punishment for their actions, which refines their decision-making capability over time. All the while deep learning, as opposed to rule-based methods, supports agentic AI through multi-layered neural networks to learn features from extensive and complex sets of data. Further, multimodal learning enable AI agents to integrate various types of information, such as text, images, audio and video.[4] As a result, agentic AI systems are capable of making independent decisions, interacting with their environment and optimizing processes without a human directly intervening.[4]')]"
      ]
     },
     "execution_count": 5,
     "metadata": {},
     "output_type": "execute_result"
    }
   ],
   "source": [
    "speech=\"\"\n",
    "\n",
    "with open('sampletext.txt') as f:\n",
    "    speech = f.read()\n",
    "\n",
    "text_splitter = CharacterTextSplitter(\n",
    "    separator = \"\\n\\n\",\n",
    "    chunk_size = 100,\n",
    "    chunk_overlap  = 20)\n",
    "\n",
    "texts = text_splitter.create_documents([speech])\n",
    "texts"
   ]
  },
  {
   "cell_type": "code",
   "execution_count": null,
   "id": "a94c528c",
   "metadata": {},
   "outputs": [],
   "source": []
  }
 ],
 "metadata": {
  "kernelspec": {
   "display_name": "Python 3",
   "language": "python",
   "name": "python3"
  },
  "language_info": {
   "codemirror_mode": {
    "name": "ipython",
    "version": 3
   },
   "file_extension": ".py",
   "mimetype": "text/x-python",
   "name": "python",
   "nbconvert_exporter": "python",
   "pygments_lexer": "ipython3",
   "version": "3.12.0"
  }
 },
 "nbformat": 4,
 "nbformat_minor": 5
}
