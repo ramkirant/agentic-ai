{
 "cells": [
  {
   "cell_type": "markdown",
   "id": "f9e29ab5",
   "metadata": {},
   "source": [
    "## Ollama\n",
    "\n",
    "Ollama is an open source application that simplies running and managing large language models on a local machine, providing developers, researchers a way to leverage AI locally without relying on cloud based services. \n",
    "\n",
    "It offers a command line interface (CLI) for precise control. \n",
    "\n",
    "It offers a simple API so that applications like Langchain can connect to it. \n",
    "\n",
    "You can fetch ollama embedding models from https://ollama.com/blog/embedding-models\n",
    "\n",
    "Pull an ollama model on the command prompt using the below query\n",
    "\n",
    "```\n",
    "ollama pull embeddinggemma:latest\n",
    "```"
   ]
  },
  {
   "cell_type": "code",
   "execution_count": 14,
   "id": "1b9a4e4c",
   "metadata": {},
   "outputs": [
    {
     "data": {
      "text/plain": [
       "OllamaEmbeddings(base_url='http://localhost:11434', model='embeddinggemma:latest', embed_instruction='passage: ', query_instruction='query: ', mirostat=None, mirostat_eta=None, mirostat_tau=None, num_ctx=None, num_gpu=None, num_thread=None, repeat_last_n=None, repeat_penalty=None, temperature=None, stop=None, tfs_z=None, top_k=None, top_p=None, show_progress=False, headers=None, model_kwargs=None)"
      ]
     },
     "execution_count": 14,
     "metadata": {},
     "output_type": "execute_result"
    }
   ],
   "source": [
    "from langchain_community.embeddings import OllamaEmbeddings\n",
    "\n",
    "## By default, it uses llama2 model\n",
    "embeddings=(\n",
    "    OllamaEmbeddings(model=\"embeddinggemma:latest\")\n",
    ") \n",
    "\n",
    "embeddings"
   ]
  },
  {
   "cell_type": "code",
   "execution_count": null,
   "id": "02d2c2cd",
   "metadata": {},
   "outputs": [],
   "source": [
    "## Embedding documents\n",
    "r1=embeddings.embed_documents([\n",
    "    \"Alpha is the first letter of Greek alphabet.\",\n",
    "    \"Beta is the second letter of Greek alphabet.\"\n",
    "])"
   ]
  },
  {
   "cell_type": "code",
   "execution_count": 19,
   "id": "311d2399",
   "metadata": {},
   "outputs": [],
   "source": [
    "## Embedding queries\n",
    "r2=embeddings.embed_query(\"What is the first letter of Greek alphabet?\")"
   ]
  }
 ],
 "metadata": {
  "kernelspec": {
   "display_name": "Python 3",
   "language": "python",
   "name": "python3"
  },
  "language_info": {
   "codemirror_mode": {
    "name": "ipython",
    "version": 3
   },
   "file_extension": ".py",
   "mimetype": "text/x-python",
   "name": "python",
   "nbconvert_exporter": "python",
   "pygments_lexer": "ipython3",
   "version": "3.12.0"
  }
 },
 "nbformat": 4,
 "nbformat_minor": 5
}
